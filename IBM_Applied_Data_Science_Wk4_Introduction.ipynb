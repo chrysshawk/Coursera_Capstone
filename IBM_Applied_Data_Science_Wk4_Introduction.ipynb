{
  "nbformat": 4,
  "nbformat_minor": 0,
  "metadata": {
    "colab": {
      "name": "IBM Applied Data Science - Wk4 - Introduction.ipynb",
      "provenance": [],
      "collapsed_sections": [],
      "toc_visible": true,
      "authorship_tag": "ABX9TyM4F9gl7ZrPDAwtXpDNNH7j"
    },
    "kernelspec": {
      "name": "python3",
      "display_name": "Python 3"
    }
  },
  "cells": [
    {
      "cell_type": "markdown",
      "metadata": {
        "id": "JcUC3UdSqZlT"
      },
      "source": [
        "# IBM Applied Data Science Project: Identifying Restaurant Business Opportunities\n"
      ]
    },
    {
      "cell_type": "markdown",
      "metadata": {
        "id": "rPfEQ9GLH1n9"
      },
      "source": [
        "##1. Introduction / Business Problem <a name=\"introduction\"></a>"
      ]
    },
    {
      "cell_type": "markdown",
      "metadata": {
        "id": "gCXICz0EIUgY"
      },
      "source": [
        "###1.0 Problem Description\n",
        "\n",
        "This project aims to help prospective investors and entrepreneurs within the food/restaurant category to establish a new business that is likely to succeed. To be specific, we are going to provide an answer to this **business problem:**   \n",
        "- Given a user-defined city, how can we collect and use market information to recommend where we should establish a restaurant, as well the restaurant type- and price range?\n"
      ]
    },
    {
      "cell_type": "markdown",
      "metadata": {
        "id": "Mn9FkyMbe5aX"
      },
      "source": [
        "###1.1 Problem Background\n",
        "The task of establishing a new venue is usually challenging: One needs to perform market research about the potential areas, identifying what the competition is doing, what the characteristics are of existing well-performing and poor-performing ventures, as well as identifying any missing market segments that could be fulfilled.\n",
        "\n",
        "This should be of interest to prospective investors, entrepreneurs, as well as to existing restaurant owners who might want input in how to improve the popularity of their restaurant. Additionally, this would provide useful to other investors in the general area."
      ]
    },
    {
      "cell_type": "markdown",
      "metadata": {
        "id": "E3YgaC3be5Eb"
      },
      "source": [
        "###1.2 Project solution\n",
        "This project will assist in the above by automating parts of the process by collecting information about the given area and the venues in the surrounding area. For this purpose it will use data from FourSquare, which is one of the largest repositories of venue information, especially pertaining to the restaurant business, and which venues have the highest popularity.  \n",
        "\n",
        "We will then analyze the characteristics of the venues that are already successful to provide recommmendations as to where the restaurant should be located, as well as which type/category of restaurant is likely to succeed, and which price ranges it should fall within."
      ]
    },
    {
      "cell_type": "markdown",
      "metadata": {
        "id": "kSEPUWVMe40C"
      },
      "source": [
        "###1.3 Project Definition and Scope\n",
        "Specifically, this project aims to answer the following business questions:\n",
        "1. In which postal area should a restaurant business be located?\n",
        "2. Which venue category is most likely to succeed?\n",
        "3. Should the given restaurant be within any given price ranges?\n",
        "\n",
        "The output of the project will be a recommendation to the above business questions, as well as giving insight into the overall characteristics of the given areas and various restaurants' popularity.\n",
        "\n",
        "The input required for the project by the user is as follows:\n",
        "1. Which city should be analyzed\n",
        "2. Which radius surrounding the city's centre should be analyzed\n",
        "\n",
        "For the purpose of this project, we are going to investigate the city of Las Vegas in Nevada, United States, including all surrounding areas of the city centre by a radius of 15 kilometers.\n",
        "\n",
        "Of course, the overall recommendation will only form a part of the required analysis of establishing a venture, yet it will give insight into what features make the existing restaurants popular in that area."
      ]
    }
  ]
}