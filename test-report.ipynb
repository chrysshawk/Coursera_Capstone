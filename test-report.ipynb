{
  "nbformat": 4,
  "nbformat_minor": 0,
  "metadata": {
    "colab": {
      "name": "IBM Applied Data Science - Report.ipynb",
      "provenance": [],
      "collapsed_sections": [],
      "toc_visible": true,
      "authorship_tag": "ABX9TyNc3eoSs5P7vLW5Q7DfJIyE",
      "include_colab_link": true
    },
    "kernelspec": {
      "name": "python3",
      "display_name": "Python 3"
    }
  },
  "cells": [
    {
      "cell_type": "markdown",
      "metadata": {
        "id": "view-in-github",
        "colab_type": "text"
      },
      "source": [
        "<a href=\"https://colab.research.google.com/github/chrysshawk/Coursera_Capstone/blob/master/test-report.ipynb\" target=\"_parent\"><img src=\"https://colab.research.google.com/assets/colab-badge.svg\" alt=\"Open In Colab\"/></a>"
      ]
    },
    {
      "cell_type": "markdown",
      "metadata": {
        "id": "JcUC3UdSqZlT"
      },
      "source": [
        "# IBM Applied Data Science Project: Identifying Business Opportunities\n"
      ]
    },
    {
      "cell_type": "markdown",
      "metadata": {
        "id": "lN0_WUnOA2V7"
      },
      "source": [
        "##Table of Contents\r\n",
        "\r\n",
        "1. [Introduction](#introduction)\r\n",
        "2. [Data Description](#data-description)\r\n",
        "3. [Methodology](#methodology)\r\n",
        "4. [Results](#results)\r\n",
        "5. [Discussion](#discussion)\r\n",
        "6. [Conclusion](#conclusion)"
      ]
    },
    {
      "cell_type": "markdown",
      "metadata": {
        "id": "rPfEQ9GLH1n9"
      },
      "source": [
        "##1. Introduction <a name=\"introduction\"></a>"
      ]
    },
    {
      "cell_type": "markdown",
      "metadata": {
        "id": "gCXICz0EIUgY"
      },
      "source": [
        "###Problem Description and Background\n",
        "\n",
        "The basis of this project is to help prospective restaurant owners to establish a new business that is likely to succeed.\n",
        "\n",
        "This should be of interest to both prospective restaurant establishers/investors or to existing restaurant owners who might want to improve the success of their restaurant. Additionally, this would provide useful to agents interested in the general area.\n",
        "\n",
        "This task is generally challenging: One needs to perform market research about the potential areas wherein to establish the business, identifying what the competition is doing, what are the characteristics of the well-performing and poor-performing ventures, as well as identifying any missing market segments.\n",
        "\n",
        "On the upside, there is an ever-increasing amount of data available online for conducting market research. However, on the downside, this data may be disperse and difficult to consolidate and interpret.\n",
        "\n",
        "This leads us to this project's **problem definition**:  \n",
        "*How can we collect market information to help identify a restaurant business model likely to succeed?*\n",
        "\n"
      ]
    },
    {
      "cell_type": "markdown",
      "metadata": {
        "id": "chbntY8PEJHr"
      },
      "source": [
        "###Project Definition and Scope\n",
        "\n",
        "The purpose of this project is automatically collect data about a given area and provide an analysis and recommendations as for which restaurant businesses are likely to succeed.\n",
        "\n",
        "The input parameters are which area to investigate, and which radius surrounding that area should be part of the analysis. \n",
        "\n",
        "The output includes the recommended locations for establishing a venue, as well as which restaurant category and price range are likely to succeed. \n",
        "\n",
        "Of course, the above will only form a part of the required analysis of establishing a venture, yet it will give insight into what features make the existing restaurants popular in that area. \n",
        "\n",
        "To illustrate the process of this project, we have chosen Las Vegas in Nevada, United States as an example."
      ]
    },
    {
      "cell_type": "markdown",
      "metadata": {
        "id": "nAsjRgWpSrCn"
      },
      "source": [
        "##2. Data Description <a name=\"data-description\"></a>"
      ]
    },
    {
      "cell_type": "markdown",
      "metadata": {
        "id": "k2TqaIRlKo6o"
      },
      "source": [
        "###Data Requirement/Source\n",
        "\n",
        "The data requirements to carry out this analysis include the following:\n",
        "1. Data about the zip/postal codes and geolocational position (latitude and longitude) of the surrounding areas\n",
        "2. Data about the venues we are investigating. These will include:\n",
        "  - Venue Popularity\n",
        "  - Venue Price Range (1-4, 1=least expensive, 4=most expensive)\n",
        "  - Venue Category\n",
        "  - Venue Postal Code\n",
        "  - Vene geospatial location\n",
        "3. Detailed data about the most popular venues, so we can analyze what are their characteristics.\n",
        "  - Venue xxx\n",
        "  - Venue yyy\n",
        "  - Venue zzz\n",
        "\n",
        "For part (1) we are going to rely on the data and functionality as provided by Geonames's API service. GeoNames API will look up zip/postal code information surronding the selected city/location, including the geospatial data of these zip/postal codes. This also accepts reverse geocoding, that is, the possibility to provide a given set of location information of a given postal code.\n",
        "\n",
        "Furthermore, Geocoder will be used to get details about given location's coordinates. For the purpose of this project, we specifically use the Arcgis source for the geocoder to ensure the data structure is consistent across potential different locations and countries.\n",
        "\n",
        "For part (2) we will use Foursquare's [Places API](https://developer.foursquare.com/docs/places-api/endpoints/) to fetch data about the most popular venues in the given area. For this purpose, we will need to set up a free account with Foursquare, which allows for up to 950 regular calls per day. For this task, we will use Foursquare's API GET requests for regular calls to:\n",
        "- Endpoint group: Venue\n",
        "- Endpoint: Explore\n",
        "- [Endpoint documentation](https://developer.foursquare.com/docs/api-reference/venues/explore/)\n",
        "\n",
        "\n",
        "Given the selected location, we are going to make multiple calls to Foursquare to fetch as many venues as are available (cap at 500) and ask Foursquare to rank them according to popularity. This feature will be essential for our analysis, since we are interested in identifying what characteristics makes for a popular venue. For this purpose we will se the non-premium Foursquare endpoint \"explore\". Further definition of this can be found at:  \n",
        "\n",
        "For part (3) we will go a bit deeper and look at further details about the most popular venues, using Foursquare's premium calls, of which we have 50 calls per day as part of the free account. The endpoint we will use for this is \"details\", whose definition is at: [Endpoint documentation](https://developer.foursquare.com/docs/api-reference/venues/details/).\n"
      ]
    },
    {
      "cell_type": "markdown",
      "metadata": {
        "id": "ipaLPKLUEUFc"
      },
      "source": [
        "###Use of Data for Analysis\n",
        "\n",
        "####Data retrieval and pre-processing:  \n",
        "Given we have data about the given area, as well as data about the venues in the given area, we are going to do the following: \n",
        "1. Define our input parameters for the project. This includes:\n",
        "  - Defining the city/location we will analyze\n",
        "  - Defining the radius of the surrounding area we will analyze\n",
        "  - Entering the credentials for GeoNames- and FourSquare APIs\n",
        "2. Retrieve the geospatial coordinates of our chosen location using Geocoder\n",
        "3. Retrieve the postal codes, area names, and associated coordinates of the specified area using GeoNames API\n",
        "4. Retrieve a list of the venues in the area from FourSquare, sorted by popularity\n",
        "5. For each price range of the venues, retrieve which range they belong to\n",
        "6. Consolidate the above, creating a dataframe containing the popular venues with their associated price ranges, and their associated location and postal code data (postal code, area name, and geospatial coordinates)\n",
        "\n",
        "The above will consequently give us the dataframe we will use for our analysis, containing a list of venues, ranked by popularity, their price category, their geospatial coordinates, as well as their associated postal code, area name, and geospatial coordinates of that area.\n",
        "\n",
        "####Data analysis \n",
        "To analyze the data, we will:\n",
        "1. Analyze the features of the most popular venue types, identifying where they are located, what type of venues they are, and what price range they are in.\n",
        "2. Do K-Means clustering on the venues to investigate how machine learning will categorize the features of the popular venue types.\n",
        "3. Use the above to provide a recommendation for business opportunities, identifying which business would be likely to succeeed, by answering the following:\n",
        "  - In which area(s) is the venue likely to be popular?\n",
        "  - What type of venue is likely to be popular?\n",
        "  - What price category should the venue be?\n",
        "  - xxx\n",
        "\n",
        "Given the above recommendation, we should be in a good position to use the gathered information to investigate the possibility of establishing a new business."
      ]
    },
    {
      "cell_type": "markdown",
      "metadata": {
        "id": "wUvNubJLtjvN"
      },
      "source": [
        "##3. Methodology <a name=\"methodology\"></a>"
      ]
    },
    {
      "cell_type": "markdown",
      "metadata": {
        "id": "2sK9MZkgbgXL"
      },
      "source": [
        "Methodology section which represents the main component of the report where you discuss and describe any exploratory data analysis that you did, any inferential statistical testing that you performed, if any, and what machine learnings were used and why.\n",
        "\n",
        "In this section, we will discuss our findings in three different areas:\n",
        "1. Exploratory data analysis\n",
        "2. Statistically creating a metric for identifying potential business opportunities\n",
        "3. Applying machine learning using k-Means clustering to see if we can categorize the features that make a business model more successful.\n",
        "\n",
        "Given the above, we should be able to provide insight as to what might be predictors of success."
      ]
    },
    {
      "cell_type": "markdown",
      "metadata": {
        "id": "CSJxWxXQbyAT"
      },
      "source": [
        "###Exploratory data analysis"
      ]
    },
    {
      "cell_type": "markdown",
      "metadata": {
        "id": "4koY0-EEZ1_k"
      },
      "source": [
        "First, we are going to carry out some exploratory analysis of the dataset. The purpose of exploratory data analysis is to investigate the overall data we are working with as well as identifying potential patterns and problems in the dataset.\r\n",
        "\r\n",
        "In this section we will explore the following:  \r\n",
        "1. The number of venues, postal codes, price ranges, and venue categories we are working with in the dataset.\r\n",
        "2. Which postal areas have most venues, and the best ranked venues\r\n",
        "3. Which venue types are most numerous, and which category has the best average rank\r\n",
        "4. Which price ranges are most popular, and if there seems to be a link between venue rating and venue price range"
      ]
    },
    {
      "cell_type": "markdown",
      "metadata": {
        "id": "LoJrwisthWSX"
      },
      "source": [
        "To begin with, this analysis comprises a total of 238 venues, of which have 30 different venue categories, within 30 different postal areas."
      ]
    },
    {
      "cell_type": "markdown",
      "metadata": {
        "id": "Str0ny4_l0VU"
      },
      "source": [
        "![pc_count_graph.png](data:image/png;base64,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)"
      ]
    },
    {
      "cell_type": "markdown",
      "metadata": {
        "id": "BhQGqg5gcosr"
      },
      "source": [
        "### Inferential statistical testing"
      ]
    },
    {
      "cell_type": "markdown",
      "metadata": {
        "id": "fW_axmOocvr2"
      },
      "source": [
        "###Machine learning"
      ]
    },
    {
      "cell_type": "markdown",
      "metadata": {
        "id": "RWH2Frr9qnjs"
      },
      "source": [
        "##4. Results <a name=\"results\"></a>"
      ]
    },
    {
      "cell_type": "markdown",
      "metadata": {
        "id": "bh9HBM7ZVzGs"
      },
      "source": [
        "### Going further"
      ]
    },
    {
      "cell_type": "markdown",
      "metadata": {
        "id": "J8qUilOLts8J"
      },
      "source": [
        "Now we have the data that we need for the analysis:\n",
        "- Venue information\n",
        "  - ID\n",
        "  - Name\n",
        "  - FourSquare Rank (popularity)\n",
        "  - Price Range\n",
        "  - Category\n",
        "  - Location\n",
        "- Location information\n",
        "  - Postal Code\n",
        "  - Postal Code geospatial coordinates\n",
        "  - Location Name\n",
        "\n",
        "From this information, we will investigate whether there are gaps in the market:\n",
        "1. Do we have popular venues with poor rank?\n",
        "2. Which venue categories do the best?\n",
        "3. Are there locations that are better than others?"
      ]
    },
    {
      "cell_type": "markdown",
      "metadata": {
        "id": "19Lv9_2itr6R"
      },
      "source": [
        "##5. Discussion <a name=\"discussion\"></a>"
      ]
    },
    {
      "cell_type": "markdown",
      "metadata": {
        "id": "NCbxFjdodB2z"
      },
      "source": [
        "In this analysis, we have investigated the data we need to assess a number of details about what makes a venue popular.\n",
        "\n",
        "Topics to mention:\n",
        "- Sample size\n",
        "- Quality of data\n",
        "- Oddities\n",
        "- Further research\n",
        "- Conclusions & validity"
      ]
    },
    {
      "cell_type": "markdown",
      "metadata": {
        "id": "63tkZD7stuwr"
      },
      "source": [
        "##6. Conclusion <a name=\"conclusion\"></a>"
      ]
    },
    {
      "cell_type": "markdown",
      "metadata": {
        "id": "OEDdB_xZwGzW"
      },
      "source": [
        "This project has illustrated how data can be collected and used in order to identify possible business opportunities in a given area. "
      ]
    },
    {
      "cell_type": "markdown",
      "metadata": {
        "id": "w2v-kiwweltJ"
      },
      "source": [
        ""
      ]
    }
  ]
}